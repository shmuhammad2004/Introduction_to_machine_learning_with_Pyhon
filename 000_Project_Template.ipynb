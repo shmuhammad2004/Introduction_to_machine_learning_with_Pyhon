{
 "cells": [
  {
   "cell_type": "markdown",
   "metadata": {},
   "source": [
    "## Predictive Modeling Project Template"
   ]
  },
  {
   "cell_type": "markdown",
   "metadata": {},
   "source": [
    "> “Applied machine learning is an empirical skill. You cannot get better at it by reading books and articles. You have to practice. We present six-step machine learning project template that you can use to jump-start your project in Python."
   ]
  },
  {
   "cell_type": "markdown",
   "metadata": {},
   "source": [
    "> The best way to get started using Python for machine learning is to complete a project.\n",
    "\n",
    "- It will force you to install and start the Python interpreter (at the very least).\n",
    "\n",
    "- It will given you a bird’s eye view of how to step through a small project.\n",
    "\n",
    "- It will give you confidence, maybe to go on to your own small projects.\n"
   ]
  },
  {
   "cell_type": "markdown",
   "metadata": {},
   "source": [
    "## Use A Structured Step-By-Step Process"
   ]
  },
  {
   "cell_type": "markdown",
   "metadata": {},
   "source": [
    "Any predictive modeling machine learning project can be broken down into six common tasks: \n",
    "1. Define Problem. \n",
    "2. Summarize Data. \n",
    "3. Prepare Data.\n",
    "4. Evaluate Algorithms. \n",
    "5. Improve Results. \n",
    "6. Present Results"
   ]
  },
  {
   "cell_type": "markdown",
   "metadata": {},
   "source": [
    "## Machine Learning Project Template in Python"
   ]
  },
  {
   "cell_type": "markdown",
   "metadata": {},
   "source": [
    "<center>\n",
    "\n",
    "\n",
    "![](./images/ml_project_template.png)\n",
    "\n",
    "<center>\n"
   ]
  },
  {
   "cell_type": "markdown",
   "metadata": {},
   "source": [
    "### How To Use The Project Template"
   ]
  },
  {
   "cell_type": "markdown",
   "metadata": {},
   "source": [
    "1. Create a new file for your project (e.g. project name.py). <br><br>\n",
    "2. Copy the project template.  <br><br>\n",
    "3. Paste it into your empty project file.  <br><br>\n",
    "4. Start to fill it in, using recipes from this book and others.1"
   ]
  },
  {
   "cell_type": "markdown",
   "metadata": {},
   "source": [
    "### Machine Learning Project Template Steps"
   ]
  },
  {
   "cell_type": "markdown",
   "metadata": {},
   "source": [
    "#### Prepare Problem"
   ]
  },
  {
   "cell_type": "markdown",
   "metadata": {},
   "source": [
    "This step is about loading everything you need to start working on your problem. This includes:  \n",
    "\n",
    "  - Python modules, classes and functions that you intend to use.  \n",
    "  \n",
    "  - Loading your dataset from CSV.  \n",
    "  \n",
    "  - It is also the place where you might need to make a reduced sample of your dataset if it is too large to work with\n",
    "    \n",
    "  - Ideally, your dataset should be small enough to build a model or create a visualization within a minute, ideally 30 seconds. \n",
    "  - You can always scale up well performing models later."
   ]
  },
  {
   "cell_type": "markdown",
   "metadata": {},
   "source": [
    "### Summarize Data"
   ]
  },
  {
   "cell_type": "markdown",
   "metadata": {},
   "source": [
    "This step is about better understanding the data that you have available. This includes understanding your data using:  \n",
    "\n",
    "- Descriptive statistics such as summaries.  \n",
    "  \n",
    "- Data visualizations such as plots with Matplotlib, ideally using convenience functions from Pandas. \n",
    "\n",
    "Take your time and use the results to prompt a lot of questions, assumptions and hypotheses that you can investigate later with specialized models."
   ]
  },
  {
   "cell_type": "markdown",
   "metadata": {},
   "source": [
    "### Prepare Data"
   ]
  },
  {
   "cell_type": "markdown",
   "metadata": {},
   "source": [
    "This step is about preparing the data in such a way that it best exposes the structure of the problem and the relationships between your input attributes with the output variable. This includes tasks such as:"
   ]
  },
  {
   "cell_type": "markdown",
   "metadata": {},
   "source": [
    "- Cleaning data by removing duplicates, marking missing values and even imputing missing values.<br><br>\n",
    "- Feature selection where redundant features may be removed and new features developed. <br><br>\n",
    "- Data transforms where attributes are scaled or redistributed in order to best expose the structure of the problem later to learning algorithms."
   ]
  },
  {
   "cell_type": "markdown",
   "metadata": {},
   "source": [
    "Start simple. Revisit this step often and cycle with the next step until you converge on a subset of algorithms and a presentation of the data that results in accurate or accurate-enough models to proceed."
   ]
  },
  {
   "cell_type": "markdown",
   "metadata": {},
   "source": [
    "## Evaluate Algorithms"
   ]
  },
  {
   "cell_type": "markdown",
   "metadata": {},
   "source": [
    "This step is about finding a subset of machine learning algorithms that are good at exploiting the structure of your data (e.g. have better than average skill). This involves steps such as:  \n",
    "\n",
    "- Separating out a validation dataset to use for later confirmation of the skill of your developed model.  <br><br>\n",
    "- Defining test options using scikit-learn such as cross validation and the evaluation metric to use.  <br><br> \n",
    "- Spot-checking a suite of linear and nonlinear machine learning algorithms.  <br><br>\n",
    "- Comparing the estimated accuracy of algorithms. On a given problem you will likely spend most of your time on this and the previous step until you converge on a set of 3-to-5 well performing machine learning algorithms."
   ]
  },
  {
   "cell_type": "markdown",
   "metadata": {},
   "source": [
    "## Improve Accuracy"
   ]
  },
  {
   "cell_type": "markdown",
   "metadata": {},
   "source": [
    "Once you have a shortlist of machine learning algorithms, you need to get the most out of them. There are two different ways to improve the accuracy of your models:  S\n",
    "\n",
    "- Search for a combination of parameters for each algorithm using scikit-learn that yields the best results. \n",
    "   \n",
    "- Combine the prediction of multiple models into an ensemble prediction using ensemble techniques. \n",
    "  \n",
    "The line between this and the previous step can blur when a project becomes concrete. There may be a little algorithm tuning in the previous step. And in the case of ensembles, you may bring more than a shortlist of algorithms forward to combine their prediction"
   ]
  },
  {
   "cell_type": "markdown",
   "metadata": {},
   "source": [
    "## Finalize Model"
   ]
  },
  {
   "cell_type": "markdown",
   "metadata": {},
   "source": [
    "Once you have found a model that you believe can make accurate predictions on unseen data, you are ready to finalize it. Finalizing a model may involve sub-tasks such as:  \n",
    "\n",
    "- Using an optimal model tuned by scikit-learn to make predictions on unseen data.  \n",
    "- Creating a standalone model using the parameters tuned by scikit-learn.\n",
    "- Saving an optimal model to file for later use. \n",
    "  \n",
    "Once you make it this far you are ready to present results to stakeholders and/or deploy your model to start making predictions on unseen data."
   ]
  },
  {
   "cell_type": "markdown",
   "metadata": {},
   "source": [
    "## Tips For Using The Template Well"
   ]
  },
  {
   "cell_type": "markdown",
   "metadata": {},
   "source": [
    "- **Fast First Pass**. Make a first-pass through the project steps as fast as possible. This will give you confidence that you have all the parts that you need and a baseline from which to improve. <br><br>\n",
    "- **Cycles.** The process in not linear but cyclic. You will loop between steps, and probably spend most of your time in tight loops between steps 3-4 or 3-4-5 until you achieve a level of accuracy that is sufficient or you run out of time. <br><br>\n",
    "- **Attempt Every Step**. It is easy to skip steps, especially if you are not confident or familiar with the tasks of that step. Try and do something at each step in the process, even if it does not improve accuracy. You can always build upon it later. Don’t skip steps, just reduce their contribution.  <br><br>\n",
    "- **Ratchet Accuracy.** The goal of the project is model accuracy. Every step contributes towards this goal. Treat changes that you make as experiments that increase accuracy as the golden path in the process and reorganize other steps around them. Accuracy is a ratchet that can only move in one direction (better, not worse).  <br><br>\n",
    "- **Adapt As Needed.** Modify the steps as you need on a project, especially as you become more experienced with the template. Blur the edges of tasks, such as steps 4-5 to best serve model accuracy."
   ]
  }
 ],
 "metadata": {
  "language_info": {
   "name": "python"
  },
  "orig_nbformat": 4
 },
 "nbformat": 4,
 "nbformat_minor": 2
}
