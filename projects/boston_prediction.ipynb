{
 "cells": [
  {
   "cell_type": "markdown",
   "metadata": {},
   "source": [
    "## Regression Machine Learning Case Study Projec"
   ]
  },
  {
   "cell_type": "markdown",
   "metadata": {},
   "source": [
    "- How to work through a regression predictive modeling problem end-to-end.  \n",
    "\n",
    "- How to use data transforms to improve model performance.  \n",
    "  \n",
    "- How to use algorithm tuning to improve model performance.  \n",
    "\n",
    "- How to use ensemble methods and tuning of ensemble methods to improve model performance"
   ]
  },
  {
   "cell_type": "markdown",
   "metadata": {},
   "source": [
    "## Problem Definition\n",
    "\n",
    "We will investigate the Boston House Price dataset. Each record in the database describes a Boston suburb or town. The data was drawn from the Boston Standard Metropolitan Statistical Area (SMSA) in 1970. "
   ]
  },
  {
   "cell_type": "markdown",
   "metadata": {},
   "source": [
    "## Load Dataset"
   ]
  },
  {
   "cell_type": "code",
   "execution_count": 44,
   "metadata": {},
   "outputs": [],
   "source": [
    "import numpy \n",
    "from numpy import arange \n",
    "from matplotlib import pyplot \n",
    "from pandas import read_csv \n",
    "from pandas import set_option \n",
    "from pandas.plotting import scatter_matrix\n",
    "from sklearn.preprocessing import StandardScaler \n",
    "from sklearn.model_selection import train_test_split \n",
    "from sklearn.model_selection import KFold \n",
    "from sklearn.model_selection import cross_val_score \n",
    "from sklearn.model_selection import GridSearchCV \n",
    "from sklearn.linear_model import LinearRegression \n",
    "from sklearn.linear_model import Lasso \n",
    "from sklearn.linear_model import ElasticNet \n",
    "from sklearn.tree import DecisionTreeRegressor \n",
    "from sklearn.neighbors import KNeighborsRegressor \n",
    "from sklearn.svm import SVR \n",
    "from sklearn.pipeline import Pipeline \n",
    "from sklearn.ensemble import RandomForestRegressor \n",
    "from sklearn.ensemble import GradientBoostingRegressor \n",
    "from sklearn.ensemble import ExtraTreesRegressor \n",
    "from sklearn.ensemble import AdaBoostRegressor \n",
    "from sklearn.metrics import mean_squared_error"
   ]
  },
  {
   "cell_type": "code",
   "execution_count": 97,
   "metadata": {},
   "outputs": [],
   "source": [
    "import pandas as pd\n",
    "import numpy as np\n",
    "\n",
    "names = ['CRIM', 'ZN', 'INDUS', 'CHAS', 'NOX', 'RM', 'AGE', 'DIS', 'RAD', 'TAX', 'PTRATIO', 'B', 'LSTAT', 'MEDV'] \n",
    "\n",
    "dataset = pd.read_csv(\"/Users/shamsuddeenmuhammad/Documents/VScode/Introduction_to_machine_learning_with_Pyhon/data/housing.csv\", delim_whitespace=True, names=names)\n"
   ]
  },
  {
   "cell_type": "code",
   "execution_count": 49,
   "metadata": {},
   "outputs": [
    {
     "data": {
      "text/html": [
       "<div>\n",
       "<style scoped>\n",
       "    .dataframe tbody tr th:only-of-type {\n",
       "        vertical-align: middle;\n",
       "    }\n",
       "\n",
       "    .dataframe tbody tr th {\n",
       "        vertical-align: top;\n",
       "    }\n",
       "\n",
       "    .dataframe thead th {\n",
       "        text-align: right;\n",
       "    }\n",
       "</style>\n",
       "<table border=\"1\" class=\"dataframe\">\n",
       "  <thead>\n",
       "    <tr style=\"text-align: right;\">\n",
       "      <th></th>\n",
       "      <th>CRIM</th>\n",
       "      <th>ZN</th>\n",
       "      <th>INDUS</th>\n",
       "      <th>CHAS</th>\n",
       "      <th>NOX</th>\n",
       "      <th>RM</th>\n",
       "      <th>AGE</th>\n",
       "      <th>DIS</th>\n",
       "      <th>RAD</th>\n",
       "      <th>TAX</th>\n",
       "      <th>PTRATIO</th>\n",
       "      <th>B</th>\n",
       "      <th>LSTAT</th>\n",
       "      <th>MEDV</th>\n",
       "    </tr>\n",
       "  </thead>\n",
       "  <tbody>\n",
       "    <tr>\n",
       "      <th>0</th>\n",
       "      <td>0.00632</td>\n",
       "      <td>18.0</td>\n",
       "      <td>2.31</td>\n",
       "      <td>0</td>\n",
       "      <td>0.538</td>\n",
       "      <td>6.575</td>\n",
       "      <td>65.2</td>\n",
       "      <td>4.0900</td>\n",
       "      <td>1</td>\n",
       "      <td>296.0</td>\n",
       "      <td>15.3</td>\n",
       "      <td>396.90</td>\n",
       "      <td>4.98</td>\n",
       "      <td>24.0</td>\n",
       "    </tr>\n",
       "    <tr>\n",
       "      <th>1</th>\n",
       "      <td>0.02731</td>\n",
       "      <td>0.0</td>\n",
       "      <td>7.07</td>\n",
       "      <td>0</td>\n",
       "      <td>0.469</td>\n",
       "      <td>6.421</td>\n",
       "      <td>78.9</td>\n",
       "      <td>4.9671</td>\n",
       "      <td>2</td>\n",
       "      <td>242.0</td>\n",
       "      <td>17.8</td>\n",
       "      <td>396.90</td>\n",
       "      <td>9.14</td>\n",
       "      <td>21.6</td>\n",
       "    </tr>\n",
       "    <tr>\n",
       "      <th>2</th>\n",
       "      <td>0.02729</td>\n",
       "      <td>0.0</td>\n",
       "      <td>7.07</td>\n",
       "      <td>0</td>\n",
       "      <td>0.469</td>\n",
       "      <td>7.185</td>\n",
       "      <td>61.1</td>\n",
       "      <td>4.9671</td>\n",
       "      <td>2</td>\n",
       "      <td>242.0</td>\n",
       "      <td>17.8</td>\n",
       "      <td>392.83</td>\n",
       "      <td>4.03</td>\n",
       "      <td>34.7</td>\n",
       "    </tr>\n",
       "    <tr>\n",
       "      <th>3</th>\n",
       "      <td>0.03237</td>\n",
       "      <td>0.0</td>\n",
       "      <td>2.18</td>\n",
       "      <td>0</td>\n",
       "      <td>0.458</td>\n",
       "      <td>6.998</td>\n",
       "      <td>45.8</td>\n",
       "      <td>6.0622</td>\n",
       "      <td>3</td>\n",
       "      <td>222.0</td>\n",
       "      <td>18.7</td>\n",
       "      <td>394.63</td>\n",
       "      <td>2.94</td>\n",
       "      <td>33.4</td>\n",
       "    </tr>\n",
       "    <tr>\n",
       "      <th>4</th>\n",
       "      <td>0.06905</td>\n",
       "      <td>0.0</td>\n",
       "      <td>2.18</td>\n",
       "      <td>0</td>\n",
       "      <td>0.458</td>\n",
       "      <td>7.147</td>\n",
       "      <td>54.2</td>\n",
       "      <td>6.0622</td>\n",
       "      <td>3</td>\n",
       "      <td>222.0</td>\n",
       "      <td>18.7</td>\n",
       "      <td>396.90</td>\n",
       "      <td>5.33</td>\n",
       "      <td>36.2</td>\n",
       "    </tr>\n",
       "    <tr>\n",
       "      <th>...</th>\n",
       "      <td>...</td>\n",
       "      <td>...</td>\n",
       "      <td>...</td>\n",
       "      <td>...</td>\n",
       "      <td>...</td>\n",
       "      <td>...</td>\n",
       "      <td>...</td>\n",
       "      <td>...</td>\n",
       "      <td>...</td>\n",
       "      <td>...</td>\n",
       "      <td>...</td>\n",
       "      <td>...</td>\n",
       "      <td>...</td>\n",
       "      <td>...</td>\n",
       "    </tr>\n",
       "    <tr>\n",
       "      <th>501</th>\n",
       "      <td>0.06263</td>\n",
       "      <td>0.0</td>\n",
       "      <td>11.93</td>\n",
       "      <td>0</td>\n",
       "      <td>0.573</td>\n",
       "      <td>6.593</td>\n",
       "      <td>69.1</td>\n",
       "      <td>2.4786</td>\n",
       "      <td>1</td>\n",
       "      <td>273.0</td>\n",
       "      <td>21.0</td>\n",
       "      <td>391.99</td>\n",
       "      <td>9.67</td>\n",
       "      <td>22.4</td>\n",
       "    </tr>\n",
       "    <tr>\n",
       "      <th>502</th>\n",
       "      <td>0.04527</td>\n",
       "      <td>0.0</td>\n",
       "      <td>11.93</td>\n",
       "      <td>0</td>\n",
       "      <td>0.573</td>\n",
       "      <td>6.120</td>\n",
       "      <td>76.7</td>\n",
       "      <td>2.2875</td>\n",
       "      <td>1</td>\n",
       "      <td>273.0</td>\n",
       "      <td>21.0</td>\n",
       "      <td>396.90</td>\n",
       "      <td>9.08</td>\n",
       "      <td>20.6</td>\n",
       "    </tr>\n",
       "    <tr>\n",
       "      <th>503</th>\n",
       "      <td>0.06076</td>\n",
       "      <td>0.0</td>\n",
       "      <td>11.93</td>\n",
       "      <td>0</td>\n",
       "      <td>0.573</td>\n",
       "      <td>6.976</td>\n",
       "      <td>91.0</td>\n",
       "      <td>2.1675</td>\n",
       "      <td>1</td>\n",
       "      <td>273.0</td>\n",
       "      <td>21.0</td>\n",
       "      <td>396.90</td>\n",
       "      <td>5.64</td>\n",
       "      <td>23.9</td>\n",
       "    </tr>\n",
       "    <tr>\n",
       "      <th>504</th>\n",
       "      <td>0.10959</td>\n",
       "      <td>0.0</td>\n",
       "      <td>11.93</td>\n",
       "      <td>0</td>\n",
       "      <td>0.573</td>\n",
       "      <td>6.794</td>\n",
       "      <td>89.3</td>\n",
       "      <td>2.3889</td>\n",
       "      <td>1</td>\n",
       "      <td>273.0</td>\n",
       "      <td>21.0</td>\n",
       "      <td>393.45</td>\n",
       "      <td>6.48</td>\n",
       "      <td>22.0</td>\n",
       "    </tr>\n",
       "    <tr>\n",
       "      <th>505</th>\n",
       "      <td>0.04741</td>\n",
       "      <td>0.0</td>\n",
       "      <td>11.93</td>\n",
       "      <td>0</td>\n",
       "      <td>0.573</td>\n",
       "      <td>6.030</td>\n",
       "      <td>80.8</td>\n",
       "      <td>2.5050</td>\n",
       "      <td>1</td>\n",
       "      <td>273.0</td>\n",
       "      <td>21.0</td>\n",
       "      <td>396.90</td>\n",
       "      <td>7.88</td>\n",
       "      <td>11.9</td>\n",
       "    </tr>\n",
       "  </tbody>\n",
       "</table>\n",
       "<p>506 rows × 14 columns</p>\n",
       "</div>"
      ],
      "text/plain": [
       "        CRIM    ZN  INDUS  CHAS    NOX     RM   AGE     DIS  RAD    TAX  \\\n",
       "0    0.00632  18.0   2.31     0  0.538  6.575  65.2  4.0900    1  296.0   \n",
       "1    0.02731   0.0   7.07     0  0.469  6.421  78.9  4.9671    2  242.0   \n",
       "2    0.02729   0.0   7.07     0  0.469  7.185  61.1  4.9671    2  242.0   \n",
       "3    0.03237   0.0   2.18     0  0.458  6.998  45.8  6.0622    3  222.0   \n",
       "4    0.06905   0.0   2.18     0  0.458  7.147  54.2  6.0622    3  222.0   \n",
       "..       ...   ...    ...   ...    ...    ...   ...     ...  ...    ...   \n",
       "501  0.06263   0.0  11.93     0  0.573  6.593  69.1  2.4786    1  273.0   \n",
       "502  0.04527   0.0  11.93     0  0.573  6.120  76.7  2.2875    1  273.0   \n",
       "503  0.06076   0.0  11.93     0  0.573  6.976  91.0  2.1675    1  273.0   \n",
       "504  0.10959   0.0  11.93     0  0.573  6.794  89.3  2.3889    1  273.0   \n",
       "505  0.04741   0.0  11.93     0  0.573  6.030  80.8  2.5050    1  273.0   \n",
       "\n",
       "     PTRATIO       B  LSTAT  MEDV  \n",
       "0       15.3  396.90   4.98  24.0  \n",
       "1       17.8  396.90   9.14  21.6  \n",
       "2       17.8  392.83   4.03  34.7  \n",
       "3       18.7  394.63   2.94  33.4  \n",
       "4       18.7  396.90   5.33  36.2  \n",
       "..       ...     ...    ...   ...  \n",
       "501     21.0  391.99   9.67  22.4  \n",
       "502     21.0  396.90   9.08  20.6  \n",
       "503     21.0  396.90   5.64  23.9  \n",
       "504     21.0  393.45   6.48  22.0  \n",
       "505     21.0  396.90   7.88  11.9  \n",
       "\n",
       "[506 rows x 14 columns]"
      ]
     },
     "execution_count": 49,
     "metadata": {},
     "output_type": "execute_result"
    }
   ],
   "source": [
    "dataset"
   ]
  },
  {
   "cell_type": "markdown",
   "metadata": {},
   "source": [
    " ## Analyze Data"
   ]
  },
  {
   "cell_type": "code",
   "execution_count": 50,
   "metadata": {},
   "outputs": [
    {
     "name": "stdout",
     "output_type": "stream",
     "text": [
      "(506, 14)\n"
     ]
    }
   ],
   "source": [
    "#print shape of the data \n",
    "print(dataset.shape)"
   ]
  },
  {
   "cell_type": "markdown",
   "metadata": {},
   "source": [
    "Lets look at the data type of each attribute"
   ]
  },
  {
   "cell_type": "code",
   "execution_count": 51,
   "metadata": {},
   "outputs": [
    {
     "name": "stdout",
     "output_type": "stream",
     "text": [
      "CRIM       float64\n",
      "ZN         float64\n",
      "INDUS      float64\n",
      "CHAS         int64\n",
      "NOX        float64\n",
      "RM         float64\n",
      "AGE        float64\n",
      "DIS        float64\n",
      "RAD          int64\n",
      "TAX        float64\n",
      "PTRATIO    float64\n",
      "B          float64\n",
      "LSTAT      float64\n",
      "MEDV       float64\n",
      "dtype: object\n"
     ]
    }
   ],
   "source": [
    "print(dataset.dtypes)"
   ]
  },
  {
   "cell_type": "markdown",
   "metadata": {},
   "source": [
    "> We can see that all of the attributes are numeric, mostly real values (float) and some have been interpreted as integers (int)."
   ]
  },
  {
   "cell_type": "markdown",
   "metadata": {},
   "source": [
    "Let’s now take a peek at the first 20 rows of the data."
   ]
  },
  {
   "cell_type": "code",
   "execution_count": 52,
   "metadata": {},
   "outputs": [
    {
     "name": "stdout",
     "output_type": "stream",
     "text": [
      "       CRIM    ZN  INDUS  CHAS    NOX     RM    AGE     DIS  RAD    TAX  \\\n",
      "0   0.00632  18.0   2.31     0  0.538  6.575   65.2  4.0900    1  296.0   \n",
      "1   0.02731   0.0   7.07     0  0.469  6.421   78.9  4.9671    2  242.0   \n",
      "2   0.02729   0.0   7.07     0  0.469  7.185   61.1  4.9671    2  242.0   \n",
      "3   0.03237   0.0   2.18     0  0.458  6.998   45.8  6.0622    3  222.0   \n",
      "4   0.06905   0.0   2.18     0  0.458  7.147   54.2  6.0622    3  222.0   \n",
      "5   0.02985   0.0   2.18     0  0.458  6.430   58.7  6.0622    3  222.0   \n",
      "6   0.08829  12.5   7.87     0  0.524  6.012   66.6  5.5605    5  311.0   \n",
      "7   0.14455  12.5   7.87     0  0.524  6.172   96.1  5.9505    5  311.0   \n",
      "8   0.21124  12.5   7.87     0  0.524  5.631  100.0  6.0821    5  311.0   \n",
      "9   0.17004  12.5   7.87     0  0.524  6.004   85.9  6.5921    5  311.0   \n",
      "10  0.22489  12.5   7.87     0  0.524  6.377   94.3  6.3467    5  311.0   \n",
      "11  0.11747  12.5   7.87     0  0.524  6.009   82.9  6.2267    5  311.0   \n",
      "12  0.09378  12.5   7.87     0  0.524  5.889   39.0  5.4509    5  311.0   \n",
      "13  0.62976   0.0   8.14     0  0.538  5.949   61.8  4.7075    4  307.0   \n",
      "14  0.63796   0.0   8.14     0  0.538  6.096   84.5  4.4619    4  307.0   \n",
      "15  0.62739   0.0   8.14     0  0.538  5.834   56.5  4.4986    4  307.0   \n",
      "16  1.05393   0.0   8.14     0  0.538  5.935   29.3  4.4986    4  307.0   \n",
      "17  0.78420   0.0   8.14     0  0.538  5.990   81.7  4.2579    4  307.0   \n",
      "18  0.80271   0.0   8.14     0  0.538  5.456   36.6  3.7965    4  307.0   \n",
      "19  0.72580   0.0   8.14     0  0.538  5.727   69.5  3.7965    4  307.0   \n",
      "\n",
      "    PTRATIO       B  LSTAT  MEDV  \n",
      "0      15.3  396.90   4.98  24.0  \n",
      "1      17.8  396.90   9.14  21.6  \n",
      "2      17.8  392.83   4.03  34.7  \n",
      "3      18.7  394.63   2.94  33.4  \n",
      "4      18.7  396.90   5.33  36.2  \n",
      "5      18.7  394.12   5.21  28.7  \n",
      "6      15.2  395.60  12.43  22.9  \n",
      "7      15.2  396.90  19.15  27.1  \n",
      "8      15.2  386.63  29.93  16.5  \n",
      "9      15.2  386.71  17.10  18.9  \n",
      "10     15.2  392.52  20.45  15.0  \n",
      "11     15.2  396.90  13.27  18.9  \n",
      "12     15.2  390.50  15.71  21.7  \n",
      "13     21.0  396.90   8.26  20.4  \n",
      "14     21.0  380.02  10.26  18.2  \n",
      "15     21.0  395.62   8.47  19.9  \n",
      "16     21.0  386.85   6.58  23.1  \n",
      "17     21.0  386.75  14.67  17.5  \n",
      "18     21.0  288.99  11.69  20.2  \n",
      "19     21.0  390.95  11.28  18.2  \n"
     ]
    }
   ],
   "source": [
    "print(dataset.head(20))"
   ]
  },
  {
   "cell_type": "markdown",
   "metadata": {},
   "source": [
    "Let’s summarize the distribution of each attribut"
   ]
  },
  {
   "cell_type": "code",
   "execution_count": 55,
   "metadata": {},
   "outputs": [
    {
     "name": "stdout",
     "output_type": "stream",
     "text": [
      "             CRIM          ZN       INDUS        CHAS         NOX          RM  \\\n",
      "count  506.000000  506.000000  506.000000  506.000000  506.000000  506.000000   \n",
      "mean     3.613524   11.363636   11.136779    0.069170    0.554695    6.284634   \n",
      "std      8.601545   23.322453    6.860353    0.253994    0.115878    0.702617   \n",
      "min      0.006320    0.000000    0.460000    0.000000    0.385000    3.561000   \n",
      "25%      0.082045    0.000000    5.190000    0.000000    0.449000    5.885500   \n",
      "50%      0.256510    0.000000    9.690000    0.000000    0.538000    6.208500   \n",
      "75%      3.677083   12.500000   18.100000    0.000000    0.624000    6.623500   \n",
      "max     88.976200  100.000000   27.740000    1.000000    0.871000    8.780000   \n",
      "\n",
      "              AGE         DIS         RAD         TAX     PTRATIO           B  \\\n",
      "count  506.000000  506.000000  506.000000  506.000000  506.000000  506.000000   \n",
      "mean    68.574901    3.795043    9.549407  408.237154   18.455534  356.674032   \n",
      "std     28.148861    2.105710    8.707259  168.537116    2.164946   91.294864   \n",
      "min      2.900000    1.129600    1.000000  187.000000   12.600000    0.320000   \n",
      "25%     45.025000    2.100175    4.000000  279.000000   17.400000  375.377500   \n",
      "50%     77.500000    3.207450    5.000000  330.000000   19.050000  391.440000   \n",
      "75%     94.075000    5.188425   24.000000  666.000000   20.200000  396.225000   \n",
      "max    100.000000   12.126500   24.000000  711.000000   22.000000  396.900000   \n",
      "\n",
      "            LSTAT        MEDV  \n",
      "count  506.000000  506.000000  \n",
      "mean    12.653063   22.532806  \n",
      "std      7.141062    9.197104  \n",
      "min      1.730000    5.000000  \n",
      "25%      6.950000   17.025000  \n",
      "50%     11.360000   21.200000  \n",
      "75%     16.955000   25.000000  \n",
      "max     37.970000   50.000000  \n"
     ]
    }
   ],
   "source": [
    "# descriptions \n",
    "print(dataset.describe())"
   ]
  },
  {
   "cell_type": "markdown",
   "metadata": {},
   "source": [
    "> The min and max values as well are the means vary a lot. We are likely going to get better results by rescaling the data in some way."
   ]
  },
  {
   "cell_type": "markdown",
   "metadata": {},
   "source": [
    "Now, let’s now take a look at the correlation between all of the numeric attributes."
   ]
  },
  {
   "cell_type": "code",
   "execution_count": 56,
   "metadata": {},
   "outputs": [
    {
     "name": "stdout",
     "output_type": "stream",
     "text": [
      "             CRIM        ZN     INDUS      CHAS       NOX        RM       AGE  \\\n",
      "CRIM     1.000000 -0.200469  0.406583 -0.055892  0.420972 -0.219247  0.352734   \n",
      "ZN      -0.200469  1.000000 -0.533828 -0.042697 -0.516604  0.311991 -0.569537   \n",
      "INDUS    0.406583 -0.533828  1.000000  0.062938  0.763651 -0.391676  0.644779   \n",
      "CHAS    -0.055892 -0.042697  0.062938  1.000000  0.091203  0.091251  0.086518   \n",
      "NOX      0.420972 -0.516604  0.763651  0.091203  1.000000 -0.302188  0.731470   \n",
      "RM      -0.219247  0.311991 -0.391676  0.091251 -0.302188  1.000000 -0.240265   \n",
      "AGE      0.352734 -0.569537  0.644779  0.086518  0.731470 -0.240265  1.000000   \n",
      "DIS     -0.379670  0.664408 -0.708027 -0.099176 -0.769230  0.205246 -0.747881   \n",
      "RAD      0.625505 -0.311948  0.595129 -0.007368  0.611441 -0.209847  0.456022   \n",
      "TAX      0.582764 -0.314563  0.720760 -0.035587  0.668023 -0.292048  0.506456   \n",
      "PTRATIO  0.289946 -0.391679  0.383248 -0.121515  0.188933 -0.355501  0.261515   \n",
      "B       -0.385064  0.175520 -0.356977  0.048788 -0.380051  0.128069 -0.273534   \n",
      "LSTAT    0.455621 -0.412995  0.603800 -0.053929  0.590879 -0.613808  0.602339   \n",
      "MEDV    -0.388305  0.360445 -0.483725  0.175260 -0.427321  0.695360 -0.376955   \n",
      "\n",
      "              DIS       RAD       TAX   PTRATIO         B     LSTAT      MEDV  \n",
      "CRIM    -0.379670  0.625505  0.582764  0.289946 -0.385064  0.455621 -0.388305  \n",
      "ZN       0.664408 -0.311948 -0.314563 -0.391679  0.175520 -0.412995  0.360445  \n",
      "INDUS   -0.708027  0.595129  0.720760  0.383248 -0.356977  0.603800 -0.483725  \n",
      "CHAS    -0.099176 -0.007368 -0.035587 -0.121515  0.048788 -0.053929  0.175260  \n",
      "NOX     -0.769230  0.611441  0.668023  0.188933 -0.380051  0.590879 -0.427321  \n",
      "RM       0.205246 -0.209847 -0.292048 -0.355501  0.128069 -0.613808  0.695360  \n",
      "AGE     -0.747881  0.456022  0.506456  0.261515 -0.273534  0.602339 -0.376955  \n",
      "DIS      1.000000 -0.494588 -0.534432 -0.232471  0.291512 -0.496996  0.249929  \n",
      "RAD     -0.494588  1.000000  0.910228  0.464741 -0.444413  0.488676 -0.381626  \n",
      "TAX     -0.534432  0.910228  1.000000  0.460853 -0.441808  0.543993 -0.468536  \n",
      "PTRATIO -0.232471  0.464741  0.460853  1.000000 -0.177383  0.374044 -0.507787  \n",
      "B        0.291512 -0.444413 -0.441808 -0.177383  1.000000 -0.366087  0.333461  \n",
      "LSTAT   -0.496996  0.488676  0.543993  0.374044 -0.366087  1.000000 -0.737663  \n",
      "MEDV     0.249929 -0.381626 -0.468536 -0.507787  0.333461 -0.737663  1.000000  \n"
     ]
    }
   ],
   "source": [
    "print(dataset.corr(method='pearson'))"
   ]
  },
  {
   "cell_type": "markdown",
   "metadata": {},
   "source": [
    "> We can see that many of the attributes have a strong correlation (e.g. > 0.70 or < −0.70)."
   ]
  },
  {
   "cell_type": "markdown",
   "metadata": {},
   "source": [
    "For example: NOX and INDUS has correlation of  0.77."
   ]
  },
  {
   "cell_type": "markdown",
   "metadata": {},
   "source": [
    "## Data Visualizations"
   ]
  },
  {
   "cell_type": "markdown",
   "metadata": {},
   "source": [
    "## Unimodal Data Visualization"
   ]
  },
  {
   "cell_type": "code",
   "execution_count": 58,
   "metadata": {},
   "outputs": [
    {
     "data": {
      "image/png": "[encoded data removed]",
      "text/plain": [
       "<Figure size 432x288 with 16 Axes>"
      ]
     },
     "metadata": {
      "needs_background": "light"
     },
     "output_type": "display_data"
    }
   ],
   "source": [
    "#histograms \n",
    "dataset.hist(sharex=False, sharey=False, xlabelsize=1, ylabelsize=1)\n",
    "pyplot.show()"
   ]
  },
  {
   "cell_type": "markdown",
   "metadata": {},
   "source": [
    "Distributions in Data science: https://www.kdnuggets.com/2020/02/probability-distributions-data-science.html"
   ]
  },
  {
   "cell_type": "markdown",
   "metadata": {},
   "source": [
    "Let’s look at the data with box and whisker plots of each attribute."
   ]
  },
  {
   "cell_type": "code",
   "execution_count": 60,
   "metadata": {},
   "outputs": [
    {
     "data": {
      "image/png": "[encoded data removed]",
      "text/plain": [
       "<Figure size 432x288 with 16 Axes>"
      ]
     },
     "metadata": {
      "needs_background": "light"
     },
     "output_type": "display_data"
    }
   ],
   "source": [
    "# box and whisker plots \n",
    "dataset.plot(kind='box', subplots=True, layout=(4,4), sharex=False, sharey=False, fontsize=8) \n",
    "pyplot.show()"
   ]
  },
  {
   "cell_type": "markdown",
   "metadata": {},
   "source": [
    "> This helps point out the skew in many distributions so much so that data looks like outliers (e.g. beyond the whisker of the plots"
   ]
  },
  {
   "cell_type": "markdown",
   "metadata": {},
   "source": [
    "## Multimodal Data Visualizations"
   ]
  },
  {
   "cell_type": "markdown",
   "metadata": {},
   "source": [
    "Let’s also visualize the correlations between the attributes"
   ]
  },
  {
   "cell_type": "code",
   "execution_count": 61,
   "metadata": {},
   "outputs": [
    {
     "data": {
      "image/png": "[encoded data removed]",
      "text/plain": [
       "<Figure size 432x288 with 2 Axes>"
      ]
     },
     "metadata": {
      "needs_background": "light"
     },
     "output_type": "display_data"
    }
   ],
   "source": [
    "# correlation matrix \n",
    "fig = pyplot.figure() \n",
    "ax = fig.add_subplot(111) \n",
    "cax = ax.matshow(dataset.corr(), vmin=-1, vmax=1, interpolation='none') \n",
    "fig.colorbar(cax) \n",
    "ticks = numpy.arange(0,14,1) \n",
    "ax.set_xticks(ticks) \n",
    "ax.set_yticks(ticks) \n",
    "ax.set_xticklabels(names) \n",
    "ax.set_yticklabels(names) \n",
    "pyplot.show()"
   ]
  },
  {
   "cell_type": "markdown",
   "metadata": {},
   "source": [
    "The X  color shows positive correlation whereas the dark blue color shows negative correlation. We can also see some dark red and Y that suggest candidates for removal to better improve accuracy of models later on"
   ]
  },
  {
   "cell_type": "markdown",
   "metadata": {},
   "source": [
    "### Summary of Ideas"
   ]
  },
  {
   "cell_type": "markdown",
   "metadata": {},
   "source": [
    "So far it would be worth trying:  \n",
    "\n",
    "1. Feature selection and removing the most correlated attributes. \n",
    "\n",
    "2.  Normalizing the dataset to reduce the effect of differing scales.  \n",
    "\n",
    "3.  Standardizing the dataset to reduce the effects of differing distributions"
   ]
  },
  {
   "cell_type": "markdown",
   "metadata": {},
   "source": [
    "## Validation Dataset"
   ]
  },
  {
   "cell_type": "code",
   "execution_count": 63,
   "metadata": {},
   "outputs": [],
   "source": [
    "# Split-out validation  dataset \n",
    "\n",
    "array = dataset.values \n",
    "\n",
    "X = array[:,0:13]\n",
    "Y = array[:,13] \n",
    "validation_size = 0.20 \n",
    "seed = 7 \n",
    "\n",
    "X_train, X_validation, Y_train, Y_validation = train_test_split(X, Y, test_size=validation_size, random_state=seed)"
   ]
  },
  {
   "cell_type": "markdown",
   "metadata": {},
   "source": [
    "## Evaluate Algorithms: Baseline"
   ]
  },
  {
   "cell_type": "markdown",
   "metadata": {},
   "source": [
    "Let’s create a baseline of performance on this problem and spot-check a number of different algorithms. We will select a suite of different algorithms capable of working on this regression problem. The six algorithms selected include"
   ]
  },
  {
   "cell_type": "markdown",
   "metadata": {},
   "source": [
    "- Linear Algorithms: Linear Regression (LR), Lasso Regression (LASSO) and ElasticNet (EN).  \n",
    "\n",
    "- Nonlinear Algorithms: Classification and Regression Trees (CART), Support Vector Regression (SVR) and k-Nearest Neighbors (KNN)."
   ]
  },
  {
   "cell_type": "markdown",
   "metadata": {},
   "source": [
    "We will use 10-fold cross validation.  We will evaluate algorithms using the Mean Squared Error (MSE) metric. MSE will give a gross idea of how wrong all predictions are (0 is perfect)."
   ]
  },
  {
   "cell_type": "code",
   "execution_count": 98,
   "metadata": {},
   "outputs": [],
   "source": [
    "# Test options and evaluation  metric \n",
    "num_folds = 10 \n",
    "seed = 7 \n",
    "scoring = 'neg_mean_squared_error'"
   ]
  },
  {
   "cell_type": "code",
   "execution_count": 64,
   "metadata": {},
   "outputs": [],
   "source": [
    "# Spot-Check Algorithms \n",
    "models = [] \n",
    "models.append(('LR', LinearRegression())) \n",
    "models.append(('LASSO', Lasso())) \n",
    "models.append(('EN', ElasticNet())) \n",
    "models.append(('KNN', KNeighborsRegressor())) \n",
    "models.append(('CART', DecisionTreeRegressor())) \n",
    "models.append(('SVR', SVR()))"
   ]
  },
  {
   "cell_type": "markdown",
   "metadata": {},
   "source": [
    "The algorithms all use default tuning parameters. Let’s compare the algorithms. We will display the mean and standard deviation of MSE for each algorithm as we calculate it and collect the results for use later."
   ]
  },
  {
   "cell_type": "markdown",
   "metadata": {},
   "source": [
    "> MSE (mean squared error) is a measure (loss function) for Regression model. A loss function in Machine Learning is a measure of how accurately your ML model is able to predict the expected outcome i.e the ground truth. Read more about three most use loss function (MSE, MAE, Huber loss) [here](https://towardsdatascience.com/understanding-the-3-most-common-loss-functions-for-machine-learning-regression-23e0ef3e14d3)"
   ]
  },
  {
   "cell_type": "code",
   "execution_count": 71,
   "metadata": {},
   "outputs": [
    {
     "name": "stdout",
     "output_type": "stream",
     "text": [
      "LR: -22.006009 (12.188886)\n",
      "LASSO: -27.105803 (13.165915)\n",
      "EN: -27.923014 (13.156405)\n",
      "KNN: -39.808936 (16.507968)\n",
      "CART: -26.169066 (17.077921)\n",
      "SVR: -67.824705 (32.801530)\n"
     ]
    }
   ],
   "source": [
    "# evaluate each model in turn \n",
    "\n",
    "results = [] \n",
    "\n",
    "names = [] \n",
    "\n",
    "for name, model in models: \n",
    "    kfold = KFold(n_splits=num_folds, shuffle=True, random_state=seed) \n",
    "    cv_results = cross_val_score(model, X_train, Y_train, cv=kfold, \n",
    "                                 scoring=scoring) \n",
    "    results.append(cv_results) \n",
    "    names.append(name) \n",
    "    msg = \"%s: %f (%f)\" % (name, cv_results.mean(), cv_results.std()) \n",
    "    print(msg)"
   ]
  },
  {
   "cell_type": "markdown",
   "metadata": {},
   "source": [
    "> It looks like LR has the lowest MSE, followed closely by CART."
   ]
  },
  {
   "cell_type": "markdown",
   "metadata": {},
   "source": [
    "The differing scales of the data is probably hurting the skill of all of the algorithms and perhaps more so for SVR and KNN"
   ]
  },
  {
   "cell_type": "markdown",
   "metadata": {},
   "source": [
    "## Evaluate Algorithms: Standardization"
   ]
  },
  {
   "cell_type": "markdown",
   "metadata": {},
   "source": [
    "- We suspect that the differing scales of the raw data may be negatively impacting the skill of some of the algorithms. \n",
    "\n",
    "- Let’s evaluate the same algorithms with a standardized copy of the dataset. \n",
    "\n",
    "- This is where the data is transformed such that each attribute has a mean value of zero and a standard deviation of 1. \n",
    "\n",
    "- We also need to avoid data leakage when we transform the data. A good way to avoid leakage is to use pipelines that standardize the data and build the model for each fold in the cross validation test harness. That way we can get a fair estimation of how each model with standardized data might perform on unseen data"
   ]
  },
  {
   "cell_type": "code",
   "execution_count": 73,
   "metadata": {},
   "outputs": [
    {
     "name": "stdout",
     "output_type": "stream",
     "text": [
      "ScaledLR: -22.006009 (12.188886)\n",
      "ScaledLASSO: -27.205896 (12.124418)\n",
      "ScaledEN: -28.301160 (13.609110)\n",
      "ScaledKNN: -21.456867 (15.016218)\n",
      "ScaledCART: -27.444731 (20.792120)\n",
      "ScaledSVR: -29.570433 (18.052964)\n"
     ]
    }
   ],
   "source": [
    "# Standardize the dataset \n",
    "\n",
    "pipelines = [] \n",
    "\n",
    "pipelines.append(('ScaledLR', Pipeline([('Scaler', StandardScaler()),('LR', LinearRegression())]))) \n",
    "\n",
    "pipelines.append(('ScaledLASSO', Pipeline([('Scaler', StandardScaler()),('LASSO', Lasso())])))\n",
    "\n",
    "pipelines.append(('ScaledEN', Pipeline([('Scaler', StandardScaler()),('EN', ElasticNet())]))) \n",
    "\n",
    "pipelines.append(('ScaledKNN', Pipeline([('Scaler', StandardScaler()),('KNN', KNeighborsRegressor())]))) \n",
    "\n",
    "pipelines.append(('ScaledCART', Pipeline([('Scaler', StandardScaler()),('CART', DecisionTreeRegressor())]))) \n",
    "\n",
    "pipelines.append(('ScaledSVR', Pipeline([('Scaler', StandardScaler()),('SVR', SVR())]))) \n",
    "\n",
    "\n",
    "results = [] \n",
    "\n",
    "names = []\n",
    "\n",
    "for name, model in pipelines: \n",
    "    kfold = KFold(n_splits=num_folds, shuffle=True, random_state=seed) \n",
    "    cv_results = cross_val_score(model, X_train, Y_train, cv=kfold, scoring=scoring) \n",
    "    results.append(cv_results) \n",
    "    names.append(name) \n",
    "    msg = \"%s: %f (%f)\" % (name, cv_results.mean(), cv_results.std()) \n",
    "    print(msg)"
   ]
  },
  {
   "cell_type": "markdown",
   "metadata": {},
   "source": [
    "> We can see that scaling did have an effect on KNN, driving the error lower than the other models."
   ]
  },
  {
   "cell_type": "markdown",
   "metadata": {},
   "source": [
    "## Improve Results With Tuning"
   ]
  },
  {
   "cell_type": "markdown",
   "metadata": {},
   "source": [
    "- We know from the results in the previous section that KNN achieves good results on a scaled version of the dataset. \n",
    "\n",
    "- But can it do better. The default value for the number of neighbors in KNN is 7. \n",
    "\n",
    "- We can use a grid search to try a set of different numbers of neighbors and see if we can improve the score. \n",
    "\n",
    "- The below example tries odd k values from 1 to 21, an arbitrary range covering a known good value of 7.\n",
    "\n",
    "- Each k value (n neighbors) is evaluated using 10-fold cross validation on a standardized copy of the training dataset"
   ]
  },
  {
   "cell_type": "code",
   "execution_count": 76,
   "metadata": {},
   "outputs": [],
   "source": [
    "# KNN Algorithm tuning \n",
    "scaler = StandardScaler().fit(X_train) \n",
    "rescaledX = scaler.transform(X_train) \n",
    "k_values = numpy.array([1,3,5,7,9,11,13,15,17,19,21]) \n",
    "param_grid = dict(n_neighbors=k_values) \n",
    "model = KNeighborsRegressor() \n",
    "kfold = KFold(n_splits=num_folds, shuffle = True,  random_state=seed) \n",
    "grid = GridSearchCV(estimator=model, param_grid=param_grid, scoring=scoring, cv=kfold) \n",
    "grid_result = grid.fit(rescaledX, Y_train)"
   ]
  },
  {
   "cell_type": "markdown",
   "metadata": {},
   "source": [
    "We can display the mean and standard deviation scores as well as the best performing value for k below."
   ]
  },
  {
   "cell_type": "code",
   "execution_count": 81,
   "metadata": {},
   "outputs": [
    {
     "data": {
      "text/html": [
       "<div>\n",
       "<style scoped>\n",
       "    .dataframe tbody tr th:only-of-type {\n",
       "        vertical-align: middle;\n",
       "    }\n",
       "\n",
       "    .dataframe tbody tr th {\n",
       "        vertical-align: top;\n",
       "    }\n",
       "\n",
       "    .dataframe thead th {\n",
       "        text-align: right;\n",
       "    }\n",
       "</style>\n",
       "<table border=\"1\" class=\"dataframe\">\n",
       "  <thead>\n",
       "    <tr style=\"text-align: right;\">\n",
       "      <th></th>\n",
       "      <th>mean_fit_time</th>\n",
       "      <th>std_fit_time</th>\n",
       "      <th>mean_score_time</th>\n",
       "      <th>std_score_time</th>\n",
       "      <th>param_n_neighbors</th>\n",
       "      <th>params</th>\n",
       "      <th>split0_test_score</th>\n",
       "      <th>split1_test_score</th>\n",
       "      <th>split2_test_score</th>\n",
       "      <th>split3_test_score</th>\n",
       "      <th>split4_test_score</th>\n",
       "      <th>split5_test_score</th>\n",
       "      <th>split6_test_score</th>\n",
       "      <th>split7_test_score</th>\n",
       "      <th>split8_test_score</th>\n",
       "      <th>split9_test_score</th>\n",
       "      <th>mean_test_score</th>\n",
       "      <th>std_test_score</th>\n",
       "      <th>rank_test_score</th>\n",
       "    </tr>\n",
       "  </thead>\n",
       "  <tbody>\n",
       "    <tr>\n",
       "      <th>0</th>\n",
       "      <td>0.001642</td>\n",
       "      <td>0.000981</td>\n",
       "      <td>0.002126</td>\n",
       "      <td>0.000443</td>\n",
       "      <td>1</td>\n",
       "      <td>{'n_neighbors': 1}</td>\n",
       "      <td>-6.551951</td>\n",
       "      <td>-12.080976</td>\n",
       "      <td>-18.283171</td>\n",
       "      <td>-55.252439</td>\n",
       "      <td>-44.741250</td>\n",
       "      <td>-14.083000</td>\n",
       "      <td>-7.249250</td>\n",
       "      <td>-14.713750</td>\n",
       "      <td>-10.341250</td>\n",
       "      <td>-11.681250</td>\n",
       "      <td>-19.497829</td>\n",
       "      <td>15.769847</td>\n",
       "      <td>1</td>\n",
       "    </tr>\n",
       "    <tr>\n",
       "      <th>1</th>\n",
       "      <td>0.002366</td>\n",
       "      <td>0.001393</td>\n",
       "      <td>0.013743</td>\n",
       "      <td>0.017976</td>\n",
       "      <td>3</td>\n",
       "      <td>{'n_neighbors': 3}</td>\n",
       "      <td>-5.417398</td>\n",
       "      <td>-12.040840</td>\n",
       "      <td>-12.203496</td>\n",
       "      <td>-49.750352</td>\n",
       "      <td>-21.156750</td>\n",
       "      <td>-18.285222</td>\n",
       "      <td>-8.398583</td>\n",
       "      <td>-41.967250</td>\n",
       "      <td>-18.250111</td>\n",
       "      <td>-12.309833</td>\n",
       "      <td>-19.977984</td>\n",
       "      <td>13.803973</td>\n",
       "      <td>2</td>\n",
       "    </tr>\n",
       "    <tr>\n",
       "      <th>2</th>\n",
       "      <td>0.003921</td>\n",
       "      <td>0.003895</td>\n",
       "      <td>0.010630</td>\n",
       "      <td>0.019769</td>\n",
       "      <td>5</td>\n",
       "      <td>{'n_neighbors': 5}</td>\n",
       "      <td>-6.689200</td>\n",
       "      <td>-13.748537</td>\n",
       "      <td>-11.067034</td>\n",
       "      <td>-53.469366</td>\n",
       "      <td>-16.311480</td>\n",
       "      <td>-23.128990</td>\n",
       "      <td>-8.341840</td>\n",
       "      <td>-44.845300</td>\n",
       "      <td>-19.970130</td>\n",
       "      <td>-15.137790</td>\n",
       "      <td>-21.270967</td>\n",
       "      <td>14.833544</td>\n",
       "      <td>5</td>\n",
       "    </tr>\n",
       "    <tr>\n",
       "      <th>3</th>\n",
       "      <td>0.004567</td>\n",
       "      <td>0.008161</td>\n",
       "      <td>0.014131</td>\n",
       "      <td>0.018857</td>\n",
       "      <td>7</td>\n",
       "      <td>{'n_neighbors': 7}</td>\n",
       "      <td>-6.226949</td>\n",
       "      <td>-16.080453</td>\n",
       "      <td>-13.279607</td>\n",
       "      <td>-58.129562</td>\n",
       "      <td>-15.010786</td>\n",
       "      <td>-20.217602</td>\n",
       "      <td>-9.320668</td>\n",
       "      <td>-39.061668</td>\n",
       "      <td>-24.372985</td>\n",
       "      <td>-14.072638</td>\n",
       "      <td>-21.577292</td>\n",
       "      <td>14.952592</td>\n",
       "      <td>7</td>\n",
       "    </tr>\n",
       "    <tr>\n",
       "      <th>4</th>\n",
       "      <td>0.003391</td>\n",
       "      <td>0.004617</td>\n",
       "      <td>0.011619</td>\n",
       "      <td>0.011016</td>\n",
       "      <td>9</td>\n",
       "      <td>{'n_neighbors': 9}</td>\n",
       "      <td>-6.203695</td>\n",
       "      <td>-15.739524</td>\n",
       "      <td>-12.391415</td>\n",
       "      <td>-57.803207</td>\n",
       "      <td>-12.516963</td>\n",
       "      <td>-16.357120</td>\n",
       "      <td>-10.388645</td>\n",
       "      <td>-36.061574</td>\n",
       "      <td>-26.420846</td>\n",
       "      <td>-16.127762</td>\n",
       "      <td>-21.001075</td>\n",
       "      <td>14.701297</td>\n",
       "      <td>3</td>\n",
       "    </tr>\n",
       "    <tr>\n",
       "      <th>5</th>\n",
       "      <td>0.027205</td>\n",
       "      <td>0.052778</td>\n",
       "      <td>0.003214</td>\n",
       "      <td>0.001999</td>\n",
       "      <td>11</td>\n",
       "      <td>{'n_neighbors': 11}</td>\n",
       "      <td>-6.434511</td>\n",
       "      <td>-14.186432</td>\n",
       "      <td>-13.409528</td>\n",
       "      <td>-59.076954</td>\n",
       "      <td>-12.937095</td>\n",
       "      <td>-16.797285</td>\n",
       "      <td>-11.498723</td>\n",
       "      <td>-35.540364</td>\n",
       "      <td>-27.881556</td>\n",
       "      <td>-17.140614</td>\n",
       "      <td>-21.490306</td>\n",
       "      <td>14.866957</td>\n",
       "      <td>6</td>\n",
       "    </tr>\n",
       "    <tr>\n",
       "      <th>6</th>\n",
       "      <td>0.002034</td>\n",
       "      <td>0.002480</td>\n",
       "      <td>0.022990</td>\n",
       "      <td>0.054348</td>\n",
       "      <td>13</td>\n",
       "      <td>{'n_neighbors': 13}</td>\n",
       "      <td>-6.521080</td>\n",
       "      <td>-13.357483</td>\n",
       "      <td>-12.955943</td>\n",
       "      <td>-57.087088</td>\n",
       "      <td>-12.921959</td>\n",
       "      <td>-16.792902</td>\n",
       "      <td>-11.230528</td>\n",
       "      <td>-35.461266</td>\n",
       "      <td>-28.569882</td>\n",
       "      <td>-17.787197</td>\n",
       "      <td>-21.268533</td>\n",
       "      <td>14.454969</td>\n",
       "      <td>4</td>\n",
       "    </tr>\n",
       "    <tr>\n",
       "      <th>7</th>\n",
       "      <td>0.003214</td>\n",
       "      <td>0.003221</td>\n",
       "      <td>0.026555</td>\n",
       "      <td>0.039906</td>\n",
       "      <td>15</td>\n",
       "      <td>{'n_neighbors': 15}</td>\n",
       "      <td>-7.060025</td>\n",
       "      <td>-14.583392</td>\n",
       "      <td>-12.974034</td>\n",
       "      <td>-56.414372</td>\n",
       "      <td>-13.541100</td>\n",
       "      <td>-17.364666</td>\n",
       "      <td>-11.405207</td>\n",
       "      <td>-36.529746</td>\n",
       "      <td>-29.482617</td>\n",
       "      <td>-20.325766</td>\n",
       "      <td>-21.968092</td>\n",
       "      <td>14.209894</td>\n",
       "      <td>8</td>\n",
       "    </tr>\n",
       "    <tr>\n",
       "      <th>8</th>\n",
       "      <td>0.005361</td>\n",
       "      <td>0.010926</td>\n",
       "      <td>0.026930</td>\n",
       "      <td>0.045720</td>\n",
       "      <td>17</td>\n",
       "      <td>{'n_neighbors': 17}</td>\n",
       "      <td>-7.237698</td>\n",
       "      <td>-15.166675</td>\n",
       "      <td>-13.930354</td>\n",
       "      <td>-57.097560</td>\n",
       "      <td>-14.875633</td>\n",
       "      <td>-17.265716</td>\n",
       "      <td>-11.062323</td>\n",
       "      <td>-38.974785</td>\n",
       "      <td>-29.957401</td>\n",
       "      <td>-21.830653</td>\n",
       "      <td>-22.739880</td>\n",
       "      <td>14.492752</td>\n",
       "      <td>9</td>\n",
       "    </tr>\n",
       "    <tr>\n",
       "      <th>9</th>\n",
       "      <td>0.003733</td>\n",
       "      <td>0.005605</td>\n",
       "      <td>0.016358</td>\n",
       "      <td>0.024422</td>\n",
       "      <td>19</td>\n",
       "      <td>{'n_neighbors': 19}</td>\n",
       "      <td>-7.854025</td>\n",
       "      <td>-16.352230</td>\n",
       "      <td>-13.484398</td>\n",
       "      <td>-58.159597</td>\n",
       "      <td>-15.993613</td>\n",
       "      <td>-17.373455</td>\n",
       "      <td>-10.927091</td>\n",
       "      <td>-41.184154</td>\n",
       "      <td>-31.122860</td>\n",
       "      <td>-22.617582</td>\n",
       "      <td>-23.506901</td>\n",
       "      <td>14.903224</td>\n",
       "      <td>10</td>\n",
       "    </tr>\n",
       "    <tr>\n",
       "      <th>10</th>\n",
       "      <td>0.005883</td>\n",
       "      <td>0.011200</td>\n",
       "      <td>0.010636</td>\n",
       "      <td>0.017554</td>\n",
       "      <td>21</td>\n",
       "      <td>{'n_neighbors': 21}</td>\n",
       "      <td>-7.514332</td>\n",
       "      <td>-17.020356</td>\n",
       "      <td>-14.202556</td>\n",
       "      <td>-58.568162</td>\n",
       "      <td>-16.967947</td>\n",
       "      <td>-17.176474</td>\n",
       "      <td>-11.508211</td>\n",
       "      <td>-43.035752</td>\n",
       "      <td>-32.481244</td>\n",
       "      <td>-23.927996</td>\n",
       "      <td>-24.240303</td>\n",
       "      <td>15.156565</td>\n",
       "      <td>11</td>\n",
       "    </tr>\n",
       "  </tbody>\n",
       "</table>\n",
       "</div>"
      ],
      "text/plain": [
       "    mean_fit_time  std_fit_time  mean_score_time  std_score_time  \\\n",
       "0        0.001642      0.000981         0.002126        0.000443   \n",
       "1        0.002366      0.001393         0.013743        0.017976   \n",
       "2        0.003921      0.003895         0.010630        0.019769   \n",
       "3        0.004567      0.008161         0.014131        0.018857   \n",
       "4        0.003391      0.004617         0.011619        0.011016   \n",
       "5        0.027205      0.052778         0.003214        0.001999   \n",
       "6        0.002034      0.002480         0.022990        0.054348   \n",
       "7        0.003214      0.003221         0.026555        0.039906   \n",
       "8        0.005361      0.010926         0.026930        0.045720   \n",
       "9        0.003733      0.005605         0.016358        0.024422   \n",
       "10       0.005883      0.011200         0.010636        0.017554   \n",
       "\n",
       "   param_n_neighbors               params  split0_test_score  \\\n",
       "0                  1   {'n_neighbors': 1}          -6.551951   \n",
       "1                  3   {'n_neighbors': 3}          -5.417398   \n",
       "2                  5   {'n_neighbors': 5}          -6.689200   \n",
       "3                  7   {'n_neighbors': 7}          -6.226949   \n",
       "4                  9   {'n_neighbors': 9}          -6.203695   \n",
       "5                 11  {'n_neighbors': 11}          -6.434511   \n",
       "6                 13  {'n_neighbors': 13}          -6.521080   \n",
       "7                 15  {'n_neighbors': 15}          -7.060025   \n",
       "8                 17  {'n_neighbors': 17}          -7.237698   \n",
       "9                 19  {'n_neighbors': 19}          -7.854025   \n",
       "10                21  {'n_neighbors': 21}          -7.514332   \n",
       "\n",
       "    split1_test_score  split2_test_score  split3_test_score  \\\n",
       "0          -12.080976         -18.283171         -55.252439   \n",
       "1          -12.040840         -12.203496         -49.750352   \n",
       "2          -13.748537         -11.067034         -53.469366   \n",
       "3          -16.080453         -13.279607         -58.129562   \n",
       "4          -15.739524         -12.391415         -57.803207   \n",
       "5          -14.186432         -13.409528         -59.076954   \n",
       "6          -13.357483         -12.955943         -57.087088   \n",
       "7          -14.583392         -12.974034         -56.414372   \n",
       "8          -15.166675         -13.930354         -57.097560   \n",
       "9          -16.352230         -13.484398         -58.159597   \n",
       "10         -17.020356         -14.202556         -58.568162   \n",
       "\n",
       "    split4_test_score  split5_test_score  split6_test_score  \\\n",
       "0          -44.741250         -14.083000          -7.249250   \n",
       "1          -21.156750         -18.285222          -8.398583   \n",
       "2          -16.311480         -23.128990          -8.341840   \n",
       "3          -15.010786         -20.217602          -9.320668   \n",
       "4          -12.516963         -16.357120         -10.388645   \n",
       "5          -12.937095         -16.797285         -11.498723   \n",
       "6          -12.921959         -16.792902         -11.230528   \n",
       "7          -13.541100         -17.364666         -11.405207   \n",
       "8          -14.875633         -17.265716         -11.062323   \n",
       "9          -15.993613         -17.373455         -10.927091   \n",
       "10         -16.967947         -17.176474         -11.508211   \n",
       "\n",
       "    split7_test_score  split8_test_score  split9_test_score  mean_test_score  \\\n",
       "0          -14.713750         -10.341250         -11.681250       -19.497829   \n",
       "1          -41.967250         -18.250111         -12.309833       -19.977984   \n",
       "2          -44.845300         -19.970130         -15.137790       -21.270967   \n",
       "3          -39.061668         -24.372985         -14.072638       -21.577292   \n",
       "4          -36.061574         -26.420846         -16.127762       -21.001075   \n",
       "5          -35.540364         -27.881556         -17.140614       -21.490306   \n",
       "6          -35.461266         -28.569882         -17.787197       -21.268533   \n",
       "7          -36.529746         -29.482617         -20.325766       -21.968092   \n",
       "8          -38.974785         -29.957401         -21.830653       -22.739880   \n",
       "9          -41.184154         -31.122860         -22.617582       -23.506901   \n",
       "10         -43.035752         -32.481244         -23.927996       -24.240303   \n",
       "\n",
       "    std_test_score  rank_test_score  \n",
       "0        15.769847                1  \n",
       "1        13.803973                2  \n",
       "2        14.833544                5  \n",
       "3        14.952592                7  \n",
       "4        14.701297                3  \n",
       "5        14.866957                6  \n",
       "6        14.454969                4  \n",
       "7        14.209894                8  \n",
       "8        14.492752                9  \n",
       "9        14.903224               10  \n",
       "10       15.156565               11  "
      ]
     },
     "execution_count": 81,
     "metadata": {},
     "output_type": "execute_result"
    }
   ],
   "source": [
    "pd.DataFrame(grid_result.cv_results_)"
   ]
  },
  {
   "cell_type": "code",
   "execution_count": 82,
   "metadata": {},
   "outputs": [
    {
     "name": "stdout",
     "output_type": "stream",
     "text": [
      "Best: -19.497829 using {'n_neighbors': 1}\n",
      "-19.497829 (15.769847) with: {'n_neighbors': 1}\n",
      "-19.977984 (13.803973) with: {'n_neighbors': 3}\n",
      "-21.270967 (14.833544) with: {'n_neighbors': 5}\n",
      "-21.577292 (14.952592) with: {'n_neighbors': 7}\n",
      "-21.001075 (14.701297) with: {'n_neighbors': 9}\n",
      "-21.490306 (14.866957) with: {'n_neighbors': 11}\n",
      "-21.268533 (14.454969) with: {'n_neighbors': 13}\n",
      "-21.968092 (14.209894) with: {'n_neighbors': 15}\n",
      "-22.739880 (14.492752) with: {'n_neighbors': 17}\n",
      "-23.506901 (14.903224) with: {'n_neighbors': 19}\n",
      "-24.240303 (15.156565) with: {'n_neighbors': 21}\n"
     ]
    }
   ],
   "source": [
    "print(\"Best: %f using %s\" % (grid_result.best_score_, grid_result.best_params_)) \n",
    "means = grid_result.cv_results_['mean_test_score'] \n",
    "stds = grid_result.cv_results_['std_test_score'] \n",
    "params = grid_result.cv_results_['params'] \n",
    "for mean, stdev, param in zip(means, stds, params): \n",
    "    print(\"%f (%f) with: %r\" % (mean, stdev, param))"
   ]
  },
  {
   "cell_type": "markdown",
   "metadata": {},
   "source": [
    "> You can see that the best for k (n neighbors) is 3 providing a mean squared error of -19.497829, the best so far."
   ]
  },
  {
   "cell_type": "markdown",
   "metadata": {},
   "source": [
    "## Ensemble Methods"
   ]
  },
  {
   "cell_type": "markdown",
   "metadata": {},
   "source": [
    "Another way that we can improve the performance of algorithms on this problem is by using ensemble methods. In this section we will evaluate four different ensemble machine learning algorithms, two boosting and two bagging methods"
   ]
  },
  {
   "cell_type": "markdown",
   "metadata": {},
   "source": [
    "- Boosting Methods: AdaBoost (AB) and Gradient Boosting (GBM). \n",
    "\n",
    "- Bagging Methods: Random Forests (RF) and Extra Trees (ET)"
   ]
  },
  {
   "cell_type": "markdown",
   "metadata": {},
   "source": [
    "We will use the same test harness as before, 10-fold cross validation and pipelines that standardize the training data for each fold."
   ]
  },
  {
   "cell_type": "code",
   "execution_count": 84,
   "metadata": {},
   "outputs": [
    {
     "name": "stdout",
     "output_type": "stream",
     "text": [
      "ScaledAB: -15.948952 (8.656773)\n",
      "ScaledGBM: -10.854067 (8.600890)\n",
      "ScaledRF: -12.836665 (10.004175)\n",
      "ScaledET: -9.127619 (6.471183)\n"
     ]
    }
   ],
   "source": [
    "# ensembles \n",
    "\n",
    "ensembles = [] \n",
    "\n",
    "ensembles.append(('ScaledAB', Pipeline([('Scaler', StandardScaler()),('AB', AdaBoostRegressor())]))) \n",
    "\n",
    "ensembles.append(('ScaledGBM', Pipeline([('Scaler', StandardScaler()),('GBM', GradientBoostingRegressor())]))) \n",
    "\n",
    "ensembles.append(('ScaledRF', Pipeline([('Scaler', StandardScaler()),('RF', RandomForestRegressor())]))) \n",
    "\n",
    "ensembles.append(('ScaledET', Pipeline([('Scaler', StandardScaler()),('ET', ExtraTreesRegressor())])))\n",
    "\n",
    "results = [] \n",
    "\n",
    "names = [] \n",
    "\n",
    "for name, model in ensembles: \n",
    "    kfold = KFold(n_splits=num_folds, shuffle = True,random_state=seed) \n",
    "    cv_results = cross_val_score(model, X_train, Y_train, cv=kfold, scoring=scoring) \n",
    "    results.append(cv_results) \n",
    "    names.append(name) \n",
    "    msg = \"%s: %f (%f)\" % (name, cv_results.mean(), cv_results.std()) \n",
    "    print(msg)"
   ]
  },
  {
   "cell_type": "markdown",
   "metadata": {},
   "source": [
    "We can see that we’re generally getting better scores than our linear and nonlinear algorithms in previous sections."
   ]
  },
  {
   "cell_type": "markdown",
   "metadata": {},
   "source": [
    "> We can probably do better, given that the ensemble techniques used the default parameters. In the next section we will look at tuning the Gradient Boosting to further lift the performance"
   ]
  },
  {
   "cell_type": "markdown",
   "metadata": {},
   "source": [
    "## Tune Ensemble Methods"
   ]
  },
  {
   "cell_type": "markdown",
   "metadata": {},
   "source": [
    "- The default number of boosting stages to perform (n estimators) is 100. \n",
    "  \n",
    "- This is a good candidate parameter of Gradient Boosting to tune. Often, the larger the number of boosting stages, the better the performance but the longer the training time. \n",
    "  \n",
    "- We will look at tuning the number of stages for gradient boosting. Below we define a parameter grid n estimators values from 50 to 400 in increments of 50. Each setting is evaluated using 10-fold cross validation."
   ]
  },
  {
   "cell_type": "code",
   "execution_count": 85,
   "metadata": {},
   "outputs": [],
   "source": [
    "# Tune scaled GBM \n",
    "# \n",
    "scaler = StandardScaler().fit(X_train) \n",
    "rescaledX = scaler.transform(X_train) \n",
    "param_grid = dict(n_estimators=numpy.array([50,100,150,200,250,300,350,400])) \n",
    "model = GradientBoostingRegressor(random_state=seed) \n",
    "kfold = KFold(n_splits=num_folds, shuffle = True, random_state=seed) \n",
    "grid = GridSearchCV(estimator=model, param_grid=param_grid, scoring=scoring, cv=kfold) \n",
    "grid_result = grid.fit(rescaledX, Y_train)"
   ]
  },
  {
   "cell_type": "code",
   "execution_count": 92,
   "metadata": {},
   "outputs": [],
   "source": [
    "numbers = [1, 2, 3]\n",
    "letters = ['a', 'b', 'c']\n",
    "zipped = zip(numbers, letters)\n"
   ]
  },
  {
   "cell_type": "code",
   "execution_count": 95,
   "metadata": {},
   "outputs": [
    {
     "data": {
      "text/plain": [
       "<zip at 0x146866d40>"
      ]
     },
     "execution_count": 95,
     "metadata": {},
     "output_type": "execute_result"
    }
   ],
   "source": [
    "zipped  # Holds an iterator object"
   ]
  },
  {
   "cell_type": "code",
   "execution_count": 94,
   "metadata": {},
   "outputs": [
    {
     "data": {
      "text/plain": [
       "zip"
      ]
     },
     "execution_count": 94,
     "metadata": {},
     "output_type": "execute_result"
    }
   ],
   "source": [
    "type(zipped)"
   ]
  },
  {
   "cell_type": "code",
   "execution_count": 96,
   "metadata": {},
   "outputs": [
    {
     "data": {
      "text/plain": [
       "[(1, 'a'), (2, 'b'), (3, 'c')]"
      ]
     },
     "execution_count": 96,
     "metadata": {},
     "output_type": "execute_result"
    }
   ],
   "source": [
    "list(zipped)"
   ]
  },
  {
   "cell_type": "code",
   "execution_count": 101,
   "metadata": {},
   "outputs": [
    {
     "data": {
      "text/html": [
       "<div>\n",
       "<style scoped>\n",
       "    .dataframe tbody tr th:only-of-type {\n",
       "        vertical-align: middle;\n",
       "    }\n",
       "\n",
       "    .dataframe tbody tr th {\n",
       "        vertical-align: top;\n",
       "    }\n",
       "\n",
       "    .dataframe thead th {\n",
       "        text-align: right;\n",
       "    }\n",
       "</style>\n",
       "<table border=\"1\" class=\"dataframe\">\n",
       "  <thead>\n",
       "    <tr style=\"text-align: right;\">\n",
       "      <th></th>\n",
       "      <th>mean_fit_time</th>\n",
       "      <th>std_fit_time</th>\n",
       "      <th>mean_score_time</th>\n",
       "      <th>std_score_time</th>\n",
       "      <th>param_n_estimators</th>\n",
       "      <th>params</th>\n",
       "      <th>split0_test_score</th>\n",
       "      <th>split1_test_score</th>\n",
       "      <th>split2_test_score</th>\n",
       "      <th>split3_test_score</th>\n",
       "      <th>split4_test_score</th>\n",
       "      <th>split5_test_score</th>\n",
       "      <th>split6_test_score</th>\n",
       "      <th>split7_test_score</th>\n",
       "      <th>split8_test_score</th>\n",
       "      <th>split9_test_score</th>\n",
       "      <th>mean_test_score</th>\n",
       "      <th>std_test_score</th>\n",
       "      <th>rank_test_score</th>\n",
       "    </tr>\n",
       "  </thead>\n",
       "  <tbody>\n",
       "    <tr>\n",
       "      <th>0</th>\n",
       "      <td>0.236267</td>\n",
       "      <td>0.092152</td>\n",
       "      <td>0.004281</td>\n",
       "      <td>0.004285</td>\n",
       "      <td>50</td>\n",
       "      <td>{'n_estimators': 50}</td>\n",
       "      <td>-5.481359</td>\n",
       "      <td>-10.927487</td>\n",
       "      <td>-6.573100</td>\n",
       "      <td>-36.642084</td>\n",
       "      <td>-7.435947</td>\n",
       "      <td>-7.071126</td>\n",
       "      <td>-6.717308</td>\n",
       "      <td>-16.113079</td>\n",
       "      <td>-9.175756</td>\n",
       "      <td>-10.162742</td>\n",
       "      <td>-11.629999</td>\n",
       "      <td>8.833221</td>\n",
       "      <td>8</td>\n",
       "    </tr>\n",
       "    <tr>\n",
       "      <th>1</th>\n",
       "      <td>0.461170</td>\n",
       "      <td>0.110094</td>\n",
       "      <td>0.007664</td>\n",
       "      <td>0.014586</td>\n",
       "      <td>100</td>\n",
       "      <td>{'n_estimators': 100}</td>\n",
       "      <td>-5.412025</td>\n",
       "      <td>-10.563229</td>\n",
       "      <td>-6.579591</td>\n",
       "      <td>-36.089893</td>\n",
       "      <td>-7.822432</td>\n",
       "      <td>-6.909152</td>\n",
       "      <td>-6.827620</td>\n",
       "      <td>-15.436466</td>\n",
       "      <td>-6.730498</td>\n",
       "      <td>-8.363646</td>\n",
       "      <td>-11.073455</td>\n",
       "      <td>8.772155</td>\n",
       "      <td>7</td>\n",
       "    </tr>\n",
       "    <tr>\n",
       "      <th>2</th>\n",
       "      <td>1.133961</td>\n",
       "      <td>0.502632</td>\n",
       "      <td>0.009957</td>\n",
       "      <td>0.014930</td>\n",
       "      <td>150</td>\n",
       "      <td>{'n_estimators': 150}</td>\n",
       "      <td>-5.225549</td>\n",
       "      <td>-10.773407</td>\n",
       "      <td>-6.267163</td>\n",
       "      <td>-35.641099</td>\n",
       "      <td>-7.857168</td>\n",
       "      <td>-6.659527</td>\n",
       "      <td>-6.677740</td>\n",
       "      <td>-15.329910</td>\n",
       "      <td>-6.060382</td>\n",
       "      <td>-7.897297</td>\n",
       "      <td>-10.838924</td>\n",
       "      <td>8.734377</td>\n",
       "      <td>6</td>\n",
       "    </tr>\n",
       "    <tr>\n",
       "      <th>3</th>\n",
       "      <td>2.495328</td>\n",
       "      <td>0.606542</td>\n",
       "      <td>0.037595</td>\n",
       "      <td>0.059067</td>\n",
       "      <td>200</td>\n",
       "      <td>{'n_estimators': 200}</td>\n",
       "      <td>-5.464684</td>\n",
       "      <td>-10.617054</td>\n",
       "      <td>-6.399911</td>\n",
       "      <td>-35.584859</td>\n",
       "      <td>-7.820983</td>\n",
       "      <td>-6.694377</td>\n",
       "      <td>-6.779740</td>\n",
       "      <td>-14.565685</td>\n",
       "      <td>-6.007274</td>\n",
       "      <td>-7.921116</td>\n",
       "      <td>-10.785568</td>\n",
       "      <td>8.657244</td>\n",
       "      <td>5</td>\n",
       "    </tr>\n",
       "    <tr>\n",
       "      <th>4</th>\n",
       "      <td>1.895522</td>\n",
       "      <td>0.649625</td>\n",
       "      <td>0.004444</td>\n",
       "      <td>0.005659</td>\n",
       "      <td>250</td>\n",
       "      <td>{'n_estimators': 250}</td>\n",
       "      <td>-5.396245</td>\n",
       "      <td>-10.495517</td>\n",
       "      <td>-6.460672</td>\n",
       "      <td>-35.161702</td>\n",
       "      <td>-7.572761</td>\n",
       "      <td>-6.818321</td>\n",
       "      <td>-6.876358</td>\n",
       "      <td>-14.254981</td>\n",
       "      <td>-5.836170</td>\n",
       "      <td>-7.675051</td>\n",
       "      <td>-10.654778</td>\n",
       "      <td>8.540552</td>\n",
       "      <td>4</td>\n",
       "    </tr>\n",
       "    <tr>\n",
       "      <th>5</th>\n",
       "      <td>2.361415</td>\n",
       "      <td>0.679828</td>\n",
       "      <td>0.004916</td>\n",
       "      <td>0.003386</td>\n",
       "      <td>300</td>\n",
       "      <td>{'n_estimators': 300}</td>\n",
       "      <td>-5.434832</td>\n",
       "      <td>-10.443748</td>\n",
       "      <td>-6.707328</td>\n",
       "      <td>-35.095466</td>\n",
       "      <td>-7.648669</td>\n",
       "      <td>-6.851895</td>\n",
       "      <td>-6.987611</td>\n",
       "      <td>-14.021441</td>\n",
       "      <td>-5.793195</td>\n",
       "      <td>-7.509668</td>\n",
       "      <td>-10.649385</td>\n",
       "      <td>8.497232</td>\n",
       "      <td>3</td>\n",
       "    </tr>\n",
       "    <tr>\n",
       "      <th>6</th>\n",
       "      <td>3.500523</td>\n",
       "      <td>0.454729</td>\n",
       "      <td>0.009325</td>\n",
       "      <td>0.011804</td>\n",
       "      <td>350</td>\n",
       "      <td>{'n_estimators': 350}</td>\n",
       "      <td>-5.436682</td>\n",
       "      <td>-10.349123</td>\n",
       "      <td>-6.723344</td>\n",
       "      <td>-34.782196</td>\n",
       "      <td>-7.578705</td>\n",
       "      <td>-6.738122</td>\n",
       "      <td>-7.089015</td>\n",
       "      <td>-13.996142</td>\n",
       "      <td>-5.747247</td>\n",
       "      <td>-7.452792</td>\n",
       "      <td>-10.589337</td>\n",
       "      <td>8.413596</td>\n",
       "      <td>2</td>\n",
       "    </tr>\n",
       "    <tr>\n",
       "      <th>7</th>\n",
       "      <td>4.493470</td>\n",
       "      <td>0.994899</td>\n",
       "      <td>0.011191</td>\n",
       "      <td>0.013217</td>\n",
       "      <td>400</td>\n",
       "      <td>{'n_estimators': 400}</td>\n",
       "      <td>-5.420766</td>\n",
       "      <td>-10.339825</td>\n",
       "      <td>-6.787734</td>\n",
       "      <td>-34.575777</td>\n",
       "      <td>-7.542901</td>\n",
       "      <td>-6.780063</td>\n",
       "      <td>-7.054276</td>\n",
       "      <td>-13.946617</td>\n",
       "      <td>-5.696099</td>\n",
       "      <td>-7.462319</td>\n",
       "      <td>-10.560638</td>\n",
       "      <td>8.353747</td>\n",
       "      <td>1</td>\n",
       "    </tr>\n",
       "  </tbody>\n",
       "</table>\n",
       "</div>"
      ],
      "text/plain": [
       "   mean_fit_time  std_fit_time  mean_score_time  std_score_time  \\\n",
       "0       0.236267      0.092152         0.004281        0.004285   \n",
       "1       0.461170      0.110094         0.007664        0.014586   \n",
       "2       1.133961      0.502632         0.009957        0.014930   \n",
       "3       2.495328      0.606542         0.037595        0.059067   \n",
       "4       1.895522      0.649625         0.004444        0.005659   \n",
       "5       2.361415      0.679828         0.004916        0.003386   \n",
       "6       3.500523      0.454729         0.009325        0.011804   \n",
       "7       4.493470      0.994899         0.011191        0.013217   \n",
       "\n",
       "  param_n_estimators                 params  split0_test_score  \\\n",
       "0                 50   {'n_estimators': 50}          -5.481359   \n",
       "1                100  {'n_estimators': 100}          -5.412025   \n",
       "2                150  {'n_estimators': 150}          -5.225549   \n",
       "3                200  {'n_estimators': 200}          -5.464684   \n",
       "4                250  {'n_estimators': 250}          -5.396245   \n",
       "5                300  {'n_estimators': 300}          -5.434832   \n",
       "6                350  {'n_estimators': 350}          -5.436682   \n",
       "7                400  {'n_estimators': 400}          -5.420766   \n",
       "\n",
       "   split1_test_score  split2_test_score  split3_test_score  split4_test_score  \\\n",
       "0         -10.927487          -6.573100         -36.642084          -7.435947   \n",
       "1         -10.563229          -6.579591         -36.089893          -7.822432   \n",
       "2         -10.773407          -6.267163         -35.641099          -7.857168   \n",
       "3         -10.617054          -6.399911         -35.584859          -7.820983   \n",
       "4         -10.495517          -6.460672         -35.161702          -7.572761   \n",
       "5         -10.443748          -6.707328         -35.095466          -7.648669   \n",
       "6         -10.349123          -6.723344         -34.782196          -7.578705   \n",
       "7         -10.339825          -6.787734         -34.575777          -7.542901   \n",
       "\n",
       "   split5_test_score  split6_test_score  split7_test_score  split8_test_score  \\\n",
       "0          -7.071126          -6.717308         -16.113079          -9.175756   \n",
       "1          -6.909152          -6.827620         -15.436466          -6.730498   \n",
       "2          -6.659527          -6.677740         -15.329910          -6.060382   \n",
       "3          -6.694377          -6.779740         -14.565685          -6.007274   \n",
       "4          -6.818321          -6.876358         -14.254981          -5.836170   \n",
       "5          -6.851895          -6.987611         -14.021441          -5.793195   \n",
       "6          -6.738122          -7.089015         -13.996142          -5.747247   \n",
       "7          -6.780063          -7.054276         -13.946617          -5.696099   \n",
       "\n",
       "   split9_test_score  mean_test_score  std_test_score  rank_test_score  \n",
       "0         -10.162742       -11.629999        8.833221                8  \n",
       "1          -8.363646       -11.073455        8.772155                7  \n",
       "2          -7.897297       -10.838924        8.734377                6  \n",
       "3          -7.921116       -10.785568        8.657244                5  \n",
       "4          -7.675051       -10.654778        8.540552                4  \n",
       "5          -7.509668       -10.649385        8.497232                3  \n",
       "6          -7.452792       -10.589337        8.413596                2  \n",
       "7          -7.462319       -10.560638        8.353747                1  "
      ]
     },
     "execution_count": 101,
     "metadata": {},
     "output_type": "execute_result"
    }
   ],
   "source": [
    "pd.DataFrame(grid_result.cv_results_)"
   ]
  },
  {
   "cell_type": "code",
   "execution_count": 102,
   "metadata": {},
   "outputs": [
    {
     "data": {
      "text/plain": [
       "-10.560637559010726"
      ]
     },
     "execution_count": 102,
     "metadata": {},
     "output_type": "execute_result"
    }
   ],
   "source": [
    "grid_result.best_score_"
   ]
  },
  {
   "cell_type": "code",
   "execution_count": 88,
   "metadata": {},
   "outputs": [
    {
     "name": "stdout",
     "output_type": "stream",
     "text": [
      "Best: -10.560638 using {'n_estimators': 400}\n",
      "(-11.629998657836461, 8.833221418068867, {'n_estimators': 50})\n",
      "(-11.073455273415261, 8.772154692069284, {'n_estimators': 100})\n",
      "(-10.838924199355183, 8.734377022610682, {'n_estimators': 150})\n",
      "(-10.78556829456355, 8.657244115563072, {'n_estimators': 200})\n",
      "(-10.65477776150534, 8.540551978773715, {'n_estimators': 250})\n",
      "(-10.649385465510363, 8.497232113066538, {'n_estimators': 300})\n",
      "(-10.589336898695533, 8.413596077609546, {'n_estimators': 350})\n",
      "(-10.560637559010726, 8.353747488148537, {'n_estimators': 400})\n"
     ]
    }
   ],
   "source": [
    "print(\"Best: %f using %s\" % (grid_result.best_score_, grid_result.best_params_)) \n",
    "means = grid_result.cv_results_['mean_test_score'] \n",
    "stds = grid_result.cv_results_['std_test_score'] \n",
    "params = grid_result.cv_results_['params'] \n",
    "for mean, stdev, param in zip(means, stds, params): \n",
    "    print(f\"({mean}, {stdev}, {param})\")"
   ]
  },
  {
   "cell_type": "markdown",
   "metadata": {},
   "source": [
    "We can see that the best configuration was n estimators=400 resulting in a mean squared error of -10.560"
   ]
  },
  {
   "cell_type": "markdown",
   "metadata": {},
   "source": [
    "## Finalize Model"
   ]
  },
  {
   "cell_type": "markdown",
   "metadata": {},
   "source": [
    "We will finalize the gradient boosting model and evaluate it on our hold out validation dataset. First we need to prepare the model and train it on the entire training dataset. This includes standardizing the training dataset before training"
   ]
  },
  {
   "cell_type": "code",
   "execution_count": 86,
   "metadata": {},
   "outputs": [
    {
     "data": {
      "text/plain": [
       "GradientBoostingRegressor(n_estimators=400, random_state=7)"
      ]
     },
     "execution_count": 86,
     "metadata": {},
     "output_type": "execute_result"
    }
   ],
   "source": [
    "# prepare the model \n",
    "scaler = StandardScaler().fit(X_train) \n",
    "rescaledX = scaler.transform(X_train) \n",
    "model = GradientBoostingRegressor(random_state=seed, n_estimators=400) \n",
    "model.fit(rescaledX, Y_train)"
   ]
  },
  {
   "cell_type": "markdown",
   "metadata": {},
   "source": [
    "We can then scale the inputs for the validation dataset and generate predictions."
   ]
  },
  {
   "cell_type": "code",
   "execution_count": 89,
   "metadata": {},
   "outputs": [
    {
     "name": "stdout",
     "output_type": "stream",
     "text": [
      "11.902132586880027\n"
     ]
    }
   ],
   "source": [
    "# transform the validation dataset \n",
    " \n",
    "rescaledValidationX = scaler.transform(X_validation) \n",
    "predictions = model.predict(rescaledValidationX) \n",
    "print(mean_squared_error(Y_validation, predictions))"
   ]
  },
  {
   "cell_type": "markdown",
   "metadata": {},
   "source": [
    "We can see that the estimated mean squared error is 11.9, close to our estimate of -10.5."
   ]
  },
  {
   "cell_type": "markdown",
   "metadata": {},
   "source": [
    "## Summary"
   ]
  },
  {
   "cell_type": "markdown",
   "metadata": {},
   "source": [
    "We worked through a regression predictive modeling machine learning problem from end-to-end using Python. Specifically, the steps covered were:  \n",
    "\n",
    "- Problem Definition (Boston house price data). \n",
    "  \n",
    "-  Loading the Dataset.  \n",
    "\n",
    "-  Analyze Data (some skewed distributions and correlated attributes).  \n",
    "\n",
    "-  Evaluate Algorithms (Linear Regression looked good).  \n",
    "\n",
    "-  Evaluate Algorithms with Standardization (KNN looked good). \n",
    "\n",
    "-  Algorithm Tuning (K=3 for KNN was best).  \n",
    "\n",
    "-  Ensemble Methods (Bagging and Boosting, Gradient Boosting looked good). \n",
    "\n",
    "-  Tuning Ensemble Methods (getting the most from Gradient Boosting). \n",
    "\n",
    "-  Finalize Model (use all training data and confirm using validation dataset). \n",
    "\n",
    "-  Working through this case study showed you how the recipes for specific machine learning tasks can be pulled together into a complete project. Working through this case study is good practice at applied machine learning using Python and scikit-learn."
   ]
  }
 ],
 "metadata": {
  "interpreter": {
   "hash": "895aa688263384567493505d09875376e7685297a6922210da729f70c5caa3cf"
  },
  "kernelspec": {
   "display_name": "Python 3.9.9 ('datascience')",
   "language": "python",
   "name": "python3"
  },
  "language_info": {
   "codemirror_mode": {
    "name": "ipython",
    "version": 3
   },
   "file_extension": ".py",
   "mimetype": "text/x-python",
   "name": "python",
   "nbconvert_exporter": "python",
   "pygments_lexer": "ipython3",
   "version": "3.9.9"
  },
  "orig_nbformat": 4
 },
 "nbformat": 4,
 "nbformat_minor": 2
}
